{
 "cells": [
  {
   "cell_type": "code",
   "execution_count": null,
   "id": "2be323f0-8c20-413a-9d1b-dc89df9fad4c",
   "metadata": {},
   "outputs": [],
   "source": [
    "import numpy as np\n",
    "import pandas as pd"
   ]
  },
  {
   "cell_type": "code",
   "execution_count": null,
   "id": "51151a84-64b0-4696-a2e3-0a8e4700e5f0",
   "metadata": {},
   "outputs": [],
   "source": [
    "\n",
    "extracted_ids = []\n",
    "\n",
    "with open(\"lc_tars.txt\", \"r\") as file:\n",
    "    for line in file:\n",
    "        line = line.strip()\n",
    "        if len(line) >= 10:\n",
    "            extracted_id = line[5:14] \n",
    "            extracted_ids.append(extracted_id)\n",
    "\n",
    "id_array = np.array(extracted_ids)\n",
    "\n",
    "print(id_array)\n",
    "\n",
    "df = pd.DataFrame(id_array, columns=[\"ID\"])\n",
    "df.to_csv(\"KICids.csv\", index=False)\n",
    "\n",
    "\n"
   ]
  },
  {
   "cell_type": "code",
   "execution_count": null,
   "id": "0876d399-448c-43df-9a53-b1b026490f45",
   "metadata": {},
   "outputs": [],
   "source": []
  }
 ],
 "metadata": {
  "kernelspec": {
   "display_name": "Python 3 (ipykernel)",
   "language": "python",
   "name": "python3"
  },
  "language_info": {
   "codemirror_mode": {
    "name": "ipython",
    "version": 3
   },
   "file_extension": ".py",
   "mimetype": "text/x-python",
   "name": "python",
   "nbconvert_exporter": "python",
   "pygments_lexer": "ipython3",
   "version": "3.13.0"
  }
 },
 "nbformat": 4,
 "nbformat_minor": 5
}
