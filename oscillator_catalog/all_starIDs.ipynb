{
 "cells": [
  {
   "cell_type": "code",
   "execution_count": 2,
   "id": "2be323f0-8c20-413a-9d1b-dc89df9fad4c",
   "metadata": {},
   "outputs": [],
   "source": [
    "import numpy as np"
   ]
  },
  {
   "cell_type": "code",
   "execution_count": 3,
   "id": "2d43b978-70b8-4f0f-b2f0-035b1f3e6f88",
   "metadata": {},
   "outputs": [
    {
     "name": "stdout",
     "output_type": "stream",
     "text": [
      "['000757076' '000757137' '000757231' '000892675' '000892195' '000891916']\n"
     ]
    }
   ],
   "source": [
    "extracted_ids = []\n",
    "\n",
    "with open(\"lc_tars.txt\", \"r\") as file:\n",
    "    for i, line in enumerate(file):\n",
    "        if 4 <= i < 10:  # only process lines 4 to 9\n",
    "            parts = line.strip().split('/')\n",
    "            if len(parts) >= 2:\n",
    "                extracted_ids.append(parts[1])\n",
    "        elif i >= 10:\n",
    "            break  # stop reading once past line 9\n",
    "\n",
    "# Convert to NumPy array\n",
    "id_array = np.array(extracted_ids)\n",
    "\n",
    "print(id_array)\n"
   ]
  },
  {
   "cell_type": "code",
   "execution_count": 4,
   "id": "51151a84-64b0-4696-a2e3-0a8e4700e5f0",
   "metadata": {},
   "outputs": [],
   "source": [
    "extracted_ids = []\n",
    "\n",
    "with open(\"lc_tars.txt\", \"r\") as file:\n",
    "    for i, line in enumerate(file):\n",
    "        if 4 <= i < 10:  # slice lines 4 to 9\n",
    "            parts = line.strip().split('/')\n",
    "            if len(parts) >= 2:\n",
    "                extracted_ids.append(parts[1])\n",
    "        elif i >= 10:\n",
    "            break\n",
    "\n",
    "# Convert to NumPy array\n",
    "id_array = np.array(extracted_ids)\n",
    "\n",
    "# Save to a txt file — one ID per line\n",
    "np.savetxt(\"all_starIDs.txt\", id_array, fmt=\"%s\")\n"
   ]
  },
  {
   "cell_type": "code",
   "execution_count": null,
   "id": "0876d399-448c-43df-9a53-b1b026490f45",
   "metadata": {},
   "outputs": [],
   "source": []
  }
 ],
 "metadata": {
  "kernelspec": {
   "display_name": "Python 3 (ipykernel)",
   "language": "python",
   "name": "python3"
  },
  "language_info": {
   "codemirror_mode": {
    "name": "ipython",
    "version": 3
   },
   "file_extension": ".py",
   "mimetype": "text/x-python",
   "name": "python",
   "nbconvert_exporter": "python",
   "pygments_lexer": "ipython3",
   "version": "3.13.0"
  }
 },
 "nbformat": 4,
 "nbformat_minor": 5
}
