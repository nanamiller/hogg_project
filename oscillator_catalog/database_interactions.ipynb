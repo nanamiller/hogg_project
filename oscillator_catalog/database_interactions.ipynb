{
 "cells": [
  {
   "cell_type": "code",
   "execution_count": 52,
   "id": "0cfd3fb6-587a-40b6-ba67-0f507d98b7e9",
   "metadata": {},
   "outputs": [],
   "source": [
    "import argparse\n",
    "import mysql.connector\n",
    "from astropy.table import Table\n",
    "from astropy.time import Time\n",
    "import os"
   ]
  },
  {
   "cell_type": "code",
   "execution_count": 67,
   "id": "af4f561f-704e-4dc7-9137-c9bf88316eb8",
   "metadata": {},
   "outputs": [],
   "source": [
    "def kill_sleeping_processes():\n",
    "    '''WARNING\n",
    "    This is dangerous\n",
    "    Magic number 1800\n",
    "    Magic user `nana`\n",
    "    '''\n",
    "    \n",
    "    conn = get_db_connection()\n",
    "    cursor = conn.cursor()\n",
    "    query1 = 'SELECT Id FROM INFORMATION_SCHEMA.PROCESSLIST WHERE Command = \"Sleep\" AND User = \"nana\" AND Time > 1800;'\n",
    "    cursor.execute(query1)\n",
    "\n",
    "    result = cursor.fetchall()\n",
    "    sleeping_ids = [row[0] for row in result]\n",
    "    for sid in sleeping_ids:\n",
    "        query2 = f\"KILL {sid};\"\n",
    "        cursor.execute(query2)\n",
    "        print(f\"Killed sleeping process with ID {sid}\")\n",
    "    \n",
    "    conn.commit()\n",
    "    cursor.close()\n",
    "    conn.close()"
   ]
  },
  {
   "cell_type": "code",
   "execution_count": 66,
   "id": "27f14bd7-8af2-4d64-8680-856361a1d9f5",
   "metadata": {},
   "outputs": [
    {
     "name": "stdout",
     "output_type": "stream",
     "text": [
      "Killed sleeping process with ID 209654\n"
     ]
    }
   ],
   "source": [
    "kill_sleeping_processes()"
   ]
  },
  {
   "cell_type": "code",
   "execution_count": 3,
   "id": "e07b8b2a-7128-4a0d-a09f-ae121d2431bc",
   "metadata": {},
   "outputs": [],
   "source": [
    "load_dataset_table()"
   ]
  },
  {
   "cell_type": "code",
   "execution_count": 4,
   "id": "9b13e786-c285-44a6-8886-966fecdfad20",
   "metadata": {},
   "outputs": [],
   "source": [
    "load_star_table()"
   ]
  },
  {
   "cell_type": "code",
   "execution_count": 5,
   "id": "5c72f200-7422-44d8-8667-db4e84fec526",
   "metadata": {},
   "outputs": [],
   "source": [
    "load_task_table()"
   ]
  },
  {
   "cell_type": "code",
   "execution_count": 57,
   "id": "5c42558e-e7ea-496d-b2bc-be8f09983cc9",
   "metadata": {},
   "outputs": [],
   "source": [
    "def start_one_task():\n",
    "    #run two queries\n",
    "    #ask for unstarted task, mark the task as started\n",
    "   \n",
    "    conn = get_db_connection()\n",
    "    cursor = conn.cursor()\n",
    "    query1 = \"SELECT star_id, dataset_id FROM task WHERE started IS NULL LIMIT 1;\"\n",
    "    cursor.execute(query1)\n",
    "    star_id, dataset_id = cursor.fetchall()[0]\n",
    "       \n",
    "    query2 = f\"\"\"UPDATE task SET \n",
    "    started = \"{Time(Time.now(), format = \"isot\")}\", \n",
    "    process_id = {os.getpid()} WHERE star_id = \"{star_id}\" AND dataset_id = \"{dataset_id}\";\"\"\"\n",
    "    cursor.execute(query2)\n",
    "    conn.commit()\n",
    "    cursor.close()\n",
    "    conn.close()\n",
    "    return star_id, dataset_id\n",
    "\n",
    "def end_one_task(star_id, dataset_id):\n",
    "    query = f\"\"\"UPDATE task SET \n",
    "    finished = \"{Time(Time.now(), format = \"isot\")}\" \n",
    "    WHERE star_id = \"{star_id}\" AND dataset_id = \"{dataset_id}\";\"\"\"\n",
    "    execute_query_and_close(query)"
   ]
  },
  {
   "cell_type": "code",
   "execution_count": 56,
   "id": "91f81f77-f212-48f1-b789-f3d927bf5b82",
   "metadata": {},
   "outputs": [
    {
     "name": "stdout",
     "output_type": "stream",
     "text": [
      "('KIC000757099', 'Kepler_long')\n"
     ]
    }
   ],
   "source": [
    "foo = start_one_process()\n",
    "print(foo)"
   ]
  },
  {
   "cell_type": "code",
   "execution_count": 58,
   "id": "e5db7534-c812-4abc-aa4c-75bbdd2f08f9",
   "metadata": {},
   "outputs": [],
   "source": [
    "end_one_task(*foo)"
   ]
  },
  {
   "cell_type": "code",
   "execution_count": 6,
   "id": "c224de74-4cde-4073-b9c4-0a27fe701f8c",
   "metadata": {},
   "outputs": [
    {
     "ename": "AssertionError",
     "evalue": "",
     "output_type": "error",
     "traceback": [
      "\u001b[31m---------------------------------------------------------------------------\u001b[39m",
      "\u001b[31mAssertionError\u001b[39m                            Traceback (most recent call last)",
      "\u001b[36mCell\u001b[39m\u001b[36m \u001b[39m\u001b[32mIn[6]\u001b[39m\u001b[32m, line 1\u001b[39m\n\u001b[32m----> \u001b[39m\u001b[32m1\u001b[39m \u001b[38;5;28;01massert\u001b[39;00m \u001b[38;5;28;01mFalse\u001b[39;00m\n",
      "\u001b[31mAssertionError\u001b[39m: "
     ]
    }
   ],
   "source": [
    "assert False"
   ]
  },
  {
   "cell_type": "code",
   "execution_count": null,
   "id": "388ef3e4-ccad-4c43-a11f-73d00f2b7d03",
   "metadata": {},
   "outputs": [],
   "source": [
    "def kill_ghost_process():\n",
    "    query = \"SHOW PROCESSLIST\"\n",
    "    conn = get_db_connection()\n",
    "    cursor = conn.cursor()\n",
    "    cursur.execute(query)\n",
    "\n",
    "    proc\n",
    "\n"
   ]
  },
  {
   "cell_type": "code",
   "execution_count": null,
   "id": "a301dfb7-08b5-4e67-8573-6a27a3cca1f2",
   "metadata": {},
   "outputs": [],
   "source": [
    "'''database update commands'''\n",
    "\n",
    "def track_status(star_id, dataset_id, status, process_id=None):\n",
    "    conn = mysql.connector.connect(\n",
    "        host='localhost',\n",
    "        user='nana',\n",
    "        database='stars_db'\n",
    "    )\n",
    "    cursor = conn.cursor()\n",
    "    if status == 'started':\n",
    "        cursor.execute(\n",
    "            \"\"\"\n",
    "            INSERT INTO task (star_id, dataset_id, started)\n",
    "            VALUES (%s, %s, NOW())\n",
    "            ON DUPLICATE KEY UPDATE started=NOW()\n",
    "            \"\"\",\n",
    "            (star_id, dataset_id)\n",
    "        )\n",
    "        print(f\"Started task for star_id={star_id}, dataset_id={dataset_id}\")\n",
    "\n",
    "    elif status == 'finished':\n",
    "        cursor.execute(\n",
    "            \"UPDATE task SET finished=NOW() WHERE star_id=%s AND dataset_id=%s\",\n",
    "            (star_id, dataset_id)\n",
    "        )\n",
    "        print(f\"Finished task for star_id={star_id}, dataset_id={dataset_id}\")\n",
    "    conn.commit()\n",
    "    cursor.close()\n",
    "    conn.close()\n",
    "\n",
    "def record_star(star_id, dataset_id):\n",
    "    conn = mysql.connector.connect(\n",
    "        host='localhost',\n",
    "        user='nana',\n",
    "        database='stars_db'\n",
    "    )\n",
    "    cursor = conn.cursor()\n",
    "    cursor.execute(\n",
    "        \"INSERT INTO star (star_id, dataset_id) VALUES (%s, %s) \"\n",
    "        \"ON DUPLICATE KEY UPDATE dataset_id=%s\",\n",
    "        (star_id, dataset_id, dataset_id)\n",
    "    )\n",
    "    conn.commit()\n",
    "    cursor.close()\n",
    "    conn.close()\n",
    "\n",
    " \n",
    "# def record_mode(star_id, dataset_id, frequency):\n",
    "\n",
    "def main():\n",
    "    parser = argparse.ArgumentParser(description=\"Process a star.\")\n",
    "    parser.add_argument(\"star_id\", type=str)\n",
    "    parser.add_argument(\"--dataset_id\", type=str, default=\"Kepler_LC\")\n",
    "    args = parser.parse_args()\n",
    "\n",
    "    star_id = args.star_id\n",
    "    dataset_id = args.dataset_id\n",
    "\n",
    "    track_status(star_id, dataset_id, 'started')\n",
    "\n",
    "    success = find_modes_in_star(star_id, plots=False, save=False, max_peaks=100)\n",
    "\n",
    "    if success:  \n",
    "        record_star(star_id, dataset_id)\n",
    "        #record_mode(star_id, dataset_id)\n",
    "\n",
    "    track_status(star_id, dataset_id, 'finished')\n",
    "\n",
    "\n",
    "if __name__ == \"__main__\":\n",
    "    main()\n"
   ]
  }
 ],
 "metadata": {
  "kernelspec": {
   "display_name": "Python 3 (ipykernel)",
   "language": "python",
   "name": "python3"
  },
  "language_info": {
   "codemirror_mode": {
    "name": "ipython",
    "version": 3
   },
   "file_extension": ".py",
   "mimetype": "text/x-python",
   "name": "python",
   "nbconvert_exporter": "python",
   "pygments_lexer": "ipython3",
   "version": "3.13.0"
  }
 },
 "nbformat": 4,
 "nbformat_minor": 5
}
